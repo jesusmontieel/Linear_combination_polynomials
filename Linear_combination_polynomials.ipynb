{
 "cells": [
  {
   "cell_type": "markdown",
   "metadata": {},
   "source": [
    "# Linear combination of polynomials such that their sum is equal to their gcd"
   ]
  },
  {
   "cell_type": "markdown",
   "metadata": {},
   "source": [
    "This code is based on the Euclidean algorithm. This code finds polynomials $a(x)$ and $b(x)$ for polynomials $p_1(x)$ and $p_2(x)$ with coefficients in $\\mathbb{Q}$ such that $a(x)p_1(x)+b(x)p_2(x) = \\mathrm{gcd}\\left(p_2(x),p_1(x)\\right)$, except constants.\n",
    "This code works using symbolic expressions."
   ]
  },
  {
   "cell_type": "code",
   "execution_count": 1,
   "metadata": {
    "id": "mXN-N2sYJbyI"
   },
   "outputs": [],
   "source": [
    "from sympy import *"
   ]
  },
  {
   "cell_type": "code",
   "execution_count": 2,
   "metadata": {},
   "outputs": [],
   "source": [
    "x, y, z = symbols('x y z')"
   ]
  },
  {
   "cell_type": "code",
   "execution_count": 3,
   "metadata": {
    "id": "GVWC0lVInOYT"
   },
   "outputs": [],
   "source": [
    "def combination(p_x,q_x): \n",
    "  residues = []\n",
    "  quotients = []\n",
    "  divisors = []\n",
    "  dividends = []\n",
    "  p_x = expand(p_x)\n",
    "  q_x = expand(q_x)\n",
    "  r2=x \n",
    "  i=0\n",
    "  while degree(r2,gen=x)>0: \n",
    "      q,r2 = div(p_x,q_x,domain='QQ') \n",
    "      if r2 == 0:\n",
    "        break \n",
    "      divisors.append(q_x) \n",
    "      dividends.append(p_x) \n",
    "      p_x = q_x \n",
    "      q_x = dividends[i]-divisors[i]*q \n",
    "      residues.append(q_x) \n",
    "      quotients.append(q)  \n",
    "      i+=1  \n",
    "  if len(dividends) == 1:\n",
    "    divisors[0]=y\n",
    "    dividends[0]=z\n",
    "    combination = collect(collect(dividends[0]-divisors[0]*quotients[0],z),y)\n",
    "    a_x = combination.coeff(z,1)\n",
    "    b_x = combination.coeff(y,1)\n",
    "  elif len(dividends) == 2:\n",
    "    divisors[0]=y\n",
    "    dividends[0]=z\n",
    "    dividends[1]=y\n",
    "    res1 = dividends[0]-divisors[0]*quotients[0]\n",
    "    res2 = expand(dividends[1]-res1*quotients[1])\n",
    "    combination = collect(collect(res2,y),z)\n",
    "    a_x = combination.coeff(z,1)\n",
    "    b_x = combination.coeff(y,1)\n",
    "  elif len(dividends) > 2:\n",
    "    divisors[0]=y\n",
    "    dividends[0]=z\n",
    "    dividends[1]=y\n",
    "    res1 = dividends[0]-divisors[0]*quotients[0]\n",
    "    dividends[2]=res1\n",
    "    residues_s = [res1] \n",
    "    for i in range(len(dividends)-1):  \n",
    "      res2 = dividends[i+1]-residues_s[i]*quotients[i+1]\n",
    "      residues_s.append(res2)\n",
    "    combination_aux = expand(residues_s[-1])\n",
    "    combination = collect(collect(combination_aux,z),y)\n",
    "    a_x = combination.coeff(z,1)\n",
    "    b_x = combination.coeff(y,1)\n",
    "  return a_x,b_x "
   ]
  },
  {
   "cell_type": "code",
   "execution_count": 4,
   "metadata": {
    "id": "YemKHdZRH7Fj"
   },
   "outputs": [],
   "source": [
    "p_x = (x-1)*(x-2)*(x-3)*(x-10) \n",
    "q_x = (x-1)*(x-2)*(x-5)        \n",
    "a_x,b_x=combination(p_x,q_x)"
   ]
  },
  {
   "cell_type": "code",
   "execution_count": 5,
   "metadata": {
    "colab": {
     "base_uri": "https://localhost:8080/",
     "height": 37
    },
    "executionInfo": {
     "elapsed": 4,
     "status": "ok",
     "timestamp": 1655214979035,
     "user": {
      "displayName": "Manuel Martinez",
      "userId": "18011964176720662622"
     },
     "user_tz": 300
    },
    "id": "08saul8lODOd",
    "outputId": "01912e9c-3335-4fc0-de8a-52e993691223"
   },
   "outputs": [
    {
     "data": {
      "text/latex": [
       "$\\displaystyle 1$"
      ],
      "text/plain": [
       "1"
      ]
     },
     "execution_count": 5,
     "metadata": {},
     "output_type": "execute_result"
    }
   ],
   "source": [
    "a_x"
   ]
  },
  {
   "cell_type": "code",
   "execution_count": 6,
   "metadata": {
    "colab": {
     "base_uri": "https://localhost:8080/",
     "height": 39
    },
    "executionInfo": {
     "elapsed": 123,
     "status": "ok",
     "timestamp": 1655214981703,
     "user": {
      "displayName": "Manuel Martinez",
      "userId": "18011964176720662622"
     },
     "user_tz": 300
    },
    "id": "u1luZTTtOEh9",
    "outputId": "a25b84a0-701d-443a-fcd2-f7a26f52cd4c"
   },
   "outputs": [
    {
     "data": {
      "text/latex": [
       "$\\displaystyle 8 - x$"
      ],
      "text/plain": [
       "8 - x"
      ]
     },
     "execution_count": 6,
     "metadata": {},
     "output_type": "execute_result"
    }
   ],
   "source": [
    "b_x"
   ]
  },
  {
   "cell_type": "code",
   "execution_count": 7,
   "metadata": {
    "colab": {
     "base_uri": "https://localhost:8080/",
     "height": 39
    },
    "executionInfo": {
     "elapsed": 3,
     "status": "ok",
     "timestamp": 1655215071073,
     "user": {
      "displayName": "Manuel Martinez",
      "userId": "18011964176720662622"
     },
     "user_tz": 300
    },
    "id": "hHhbnyXLgJUM",
    "outputId": "5c4b2f21-7614-4da9-9e5b-e5291d943b0b"
   },
   "outputs": [
    {
     "data": {
      "text/latex": [
       "$\\displaystyle - 10 \\left(x - 2\\right) \\left(x - 1\\right)$"
      ],
      "text/plain": [
       "-10*(x - 2)*(x - 1)"
      ]
     },
     "execution_count": 7,
     "metadata": {},
     "output_type": "execute_result"
    }
   ],
   "source": [
    "factor(expand(a_x*p_x+b_x*q_x))"
   ]
  }
 ],
 "metadata": {
  "colab": {
   "collapsed_sections": [],
   "name": "Corrección Ejercicio 3 de Concurso polinomios.ipynb",
   "provenance": [
    {
     "file_id": "1g-uvjhQorE68shxCNli0OB8hsvU-gj6F",
     "timestamp": 1655185140194
    },
    {
     "file_id": "1o_xBkfZmFpeEihFbs1Ol7TVUY25EWybX",
     "timestamp": 1655115991847
    }
   ]
  },
  "kernelspec": {
   "display_name": "Python 3 (ipykernel)",
   "language": "python",
   "name": "python3"
  },
  "language_info": {
   "codemirror_mode": {
    "name": "ipython",
    "version": 3
   },
   "file_extension": ".py",
   "mimetype": "text/x-python",
   "name": "python",
   "nbconvert_exporter": "python",
   "pygments_lexer": "ipython3",
   "version": "3.9.7"
  }
 },
 "nbformat": 4,
 "nbformat_minor": 1
}
